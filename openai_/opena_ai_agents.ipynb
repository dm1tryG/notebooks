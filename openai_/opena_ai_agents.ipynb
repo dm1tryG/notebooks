{
 "cells": [
  {
   "metadata": {
    "ExecuteTime": {
     "end_time": "2025-03-15T16:24:35.485212Z",
     "start_time": "2025-03-15T16:24:33.363005Z"
    }
   },
   "cell_type": "code",
   "source": "pip install openai-agents",
   "id": "e0599ad4ccaae34b",
   "outputs": [
    {
     "name": "stdout",
     "output_type": "stream",
     "text": [
      "Collecting openai-agents\r\n",
      "  Obtaining dependency information for openai-agents from https://files.pythonhosted.org/packages/8c/ef/c71adf656feb405ad5a2eae8175330db928f64ea1cb3ceb41866645e5034/openai_agents-0.0.4-py3-none-any.whl.metadata\r\n",
      "  Downloading openai_agents-0.0.4-py3-none-any.whl.metadata (7.6 kB)\r\n",
      "Collecting griffe<2,>=1.5.6 (from openai-agents)\r\n",
      "  Obtaining dependency information for griffe<2,>=1.5.6 from https://files.pythonhosted.org/packages/bf/02/5a22bc98d0aebb68c15ba70d2da1c84a5ef56048d79634e5f96cd2ba96e9/griffe-1.6.0-py3-none-any.whl.metadata\r\n",
      "  Downloading griffe-1.6.0-py3-none-any.whl.metadata (5.0 kB)\r\n",
      "Requirement already satisfied: openai>=1.66.2 in ./.venv/lib/python3.12/site-packages (from openai-agents) (1.66.3)\r\n",
      "Requirement already satisfied: pydantic<3,>=2.10 in ./.venv/lib/python3.12/site-packages (from openai-agents) (2.10.6)\r\n",
      "Requirement already satisfied: requests<3,>=2.0 in ./.venv/lib/python3.12/site-packages (from openai-agents) (2.32.3)\r\n",
      "Collecting types-requests<3,>=2.0 (from openai-agents)\r\n",
      "  Obtaining dependency information for types-requests<3,>=2.0 from https://files.pythonhosted.org/packages/99/26/645d89f56004aa0ba3b96fec27793e3c7e62b40982ee069e52568922b6db/types_requests-2.32.0.20250306-py3-none-any.whl.metadata\r\n",
      "  Downloading types_requests-2.32.0.20250306-py3-none-any.whl.metadata (2.3 kB)\r\n",
      "Requirement already satisfied: typing-extensions<5,>=4.12.2 in ./.venv/lib/python3.12/site-packages (from openai-agents) (4.12.2)\r\n",
      "Collecting colorama>=0.4 (from griffe<2,>=1.5.6->openai-agents)\r\n",
      "  Obtaining dependency information for colorama>=0.4 from https://files.pythonhosted.org/packages/d1/d6/3965ed04c63042e047cb6a3e6ed1a63a35087b6a609aa3a15ed8ac56c221/colorama-0.4.6-py2.py3-none-any.whl.metadata\r\n",
      "  Using cached colorama-0.4.6-py2.py3-none-any.whl.metadata (17 kB)\r\n",
      "Requirement already satisfied: anyio<5,>=3.5.0 in ./.venv/lib/python3.12/site-packages (from openai>=1.66.2->openai-agents) (4.8.0)\r\n",
      "Requirement already satisfied: distro<2,>=1.7.0 in ./.venv/lib/python3.12/site-packages (from openai>=1.66.2->openai-agents) (1.9.0)\r\n",
      "Requirement already satisfied: httpx<1,>=0.23.0 in ./.venv/lib/python3.12/site-packages (from openai>=1.66.2->openai-agents) (0.28.1)\r\n",
      "Requirement already satisfied: jiter<1,>=0.4.0 in ./.venv/lib/python3.12/site-packages (from openai>=1.66.2->openai-agents) (0.9.0)\r\n",
      "Requirement already satisfied: sniffio in ./.venv/lib/python3.12/site-packages (from openai>=1.66.2->openai-agents) (1.3.1)\r\n",
      "Requirement already satisfied: tqdm>4 in ./.venv/lib/python3.12/site-packages (from openai>=1.66.2->openai-agents) (4.67.1)\r\n",
      "Requirement already satisfied: annotated-types>=0.6.0 in ./.venv/lib/python3.12/site-packages (from pydantic<3,>=2.10->openai-agents) (0.7.0)\r\n",
      "Requirement already satisfied: pydantic-core==2.27.2 in ./.venv/lib/python3.12/site-packages (from pydantic<3,>=2.10->openai-agents) (2.27.2)\r\n",
      "Requirement already satisfied: charset-normalizer<4,>=2 in ./.venv/lib/python3.12/site-packages (from requests<3,>=2.0->openai-agents) (3.4.1)\r\n",
      "Requirement already satisfied: idna<4,>=2.5 in ./.venv/lib/python3.12/site-packages (from requests<3,>=2.0->openai-agents) (3.10)\r\n",
      "Requirement already satisfied: urllib3<3,>=1.21.1 in ./.venv/lib/python3.12/site-packages (from requests<3,>=2.0->openai-agents) (2.3.0)\r\n",
      "Requirement already satisfied: certifi>=2017.4.17 in ./.venv/lib/python3.12/site-packages (from requests<3,>=2.0->openai-agents) (2025.1.31)\r\n",
      "Requirement already satisfied: httpcore==1.* in ./.venv/lib/python3.12/site-packages (from httpx<1,>=0.23.0->openai>=1.66.2->openai-agents) (1.0.7)\r\n",
      "Requirement already satisfied: h11<0.15,>=0.13 in ./.venv/lib/python3.12/site-packages (from httpcore==1.*->httpx<1,>=0.23.0->openai>=1.66.2->openai-agents) (0.14.0)\r\n",
      "Downloading openai_agents-0.0.4-py3-none-any.whl (76 kB)\r\n",
      "\u001B[2K   \u001B[90m━━━━━━━━━━━━━━━━━━━━━━━━━━━━━━━━━━━━━━━━\u001B[0m \u001B[32m76.1/76.1 kB\u001B[0m \u001B[31m1.2 MB/s\u001B[0m eta \u001B[36m0:00:00\u001B[0ma \u001B[36m0:00:01\u001B[0m\r\n",
      "\u001B[?25hDownloading griffe-1.6.0-py3-none-any.whl (128 kB)\r\n",
      "\u001B[2K   \u001B[90m━━━━━━━━━━━━━━━━━━━━━━━━━━━━━━━━━━━━━━━━\u001B[0m \u001B[32m128.5/128.5 kB\u001B[0m \u001B[31m2.6 MB/s\u001B[0m eta \u001B[36m0:00:00\u001B[0ma \u001B[36m0:00:01\u001B[0m\r\n",
      "\u001B[?25hDownloading types_requests-2.32.0.20250306-py3-none-any.whl (20 kB)\r\n",
      "Using cached colorama-0.4.6-py2.py3-none-any.whl (25 kB)\r\n",
      "Installing collected packages: types-requests, colorama, griffe, openai-agents\r\n",
      "Successfully installed colorama-0.4.6 griffe-1.6.0 openai-agents-0.0.4 types-requests-2.32.0.20250306\r\n",
      "\r\n",
      "\u001B[1m[\u001B[0m\u001B[34;49mnotice\u001B[0m\u001B[1;39;49m]\u001B[0m\u001B[39;49m A new release of pip is available: \u001B[0m\u001B[31;49m23.2.1\u001B[0m\u001B[39;49m -> \u001B[0m\u001B[32;49m25.0.1\u001B[0m\r\n",
      "\u001B[1m[\u001B[0m\u001B[34;49mnotice\u001B[0m\u001B[1;39;49m]\u001B[0m\u001B[39;49m To update, run: \u001B[0m\u001B[32;49m/Users/dmitriigalkin-hs/notebooks/.venv/bin/python -m pip install --upgrade pip\u001B[0m\r\n",
      "Note: you may need to restart the kernel to use updated packages.\n"
     ]
    }
   ],
   "execution_count": 2
  },
  {
   "metadata": {
    "collapsed": true,
    "ExecuteTime": {
     "end_time": "2025-03-15T16:43:58.758874Z",
     "start_time": "2025-03-15T16:43:56.742188Z"
    }
   },
   "cell_type": "code",
   "source": [
    "from agents import Agent, Runner, WebSearchTool, function_tool, guardrail\n",
    "\n",
    "@function_tool\n",
    "def get_weather(city: str):\n",
    "    print(f\"weather in {city} is 11 degree\")\n",
    "    return f\"weather in {city} is 11 degree\"\n",
    "\n",
    "support_agent = Agent(\n",
    "    model=\"gpt-4o-mini\",\n",
    "    name=\"Weather tool\",\n",
    "    instructions=\"You are weather agent and you can go to web to search another information about cities.\",\n",
    "    tools=[get_weather, WebSearchTool()],\n",
    ")\n",
    "\n",
    "output = await Runner.run(\n",
    "    starting_agent=support_agent,\n",
    "    input=\"What weather in London?\"\n",
    ")\n",
    "\n",
    "print(output.final_output)"
   ],
   "id": "initial_id",
   "outputs": [
    {
     "name": "stdout",
     "output_type": "stream",
     "text": [
      "weather in London is 11 degree\n",
      "The current weather in London is 11 degrees. If you need more details, just let me know!\n"
     ]
    }
   ],
   "execution_count": 20
  }
 ],
 "metadata": {
  "kernelspec": {
   "display_name": "Python 3",
   "language": "python",
   "name": "python3"
  },
  "language_info": {
   "codemirror_mode": {
    "name": "ipython",
    "version": 2
   },
   "file_extension": ".py",
   "mimetype": "text/x-python",
   "name": "python",
   "nbconvert_exporter": "python",
   "pygments_lexer": "ipython2",
   "version": "2.7.6"
  }
 },
 "nbformat": 4,
 "nbformat_minor": 5
}
